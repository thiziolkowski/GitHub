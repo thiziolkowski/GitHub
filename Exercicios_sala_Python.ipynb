{
  "nbformat": 4,
  "nbformat_minor": 0,
  "metadata": {
    "colab": {
      "provenance": [],
      "authorship_tag": "ABX9TyOMfQUT4JwSVdCRXIxZBw6+",
      "include_colab_link": true
    },
    "kernelspec": {
      "name": "python3",
      "display_name": "Python 3"
    },
    "language_info": {
      "name": "python"
    }
  },
  "cells": [
    {
      "cell_type": "markdown",
      "metadata": {
        "id": "view-in-github",
        "colab_type": "text"
      },
      "source": [
        "<a href=\"https://colab.research.google.com/github/thiziolkowski/GitHub/blob/main/Exercicios_sala_Python.ipynb\" target=\"_parent\"><img src=\"https://colab.research.google.com/assets/colab-badge.svg\" alt=\"Open In Colab\"/></a>"
      ]
    },
    {
      "cell_type": "markdown",
      "source": [
        "# **LISTA**"
      ],
      "metadata": {
        "id": "84TePfJAoowQ"
      }
    },
    {
      "cell_type": "markdown",
      "source": [
        "Dada a lista L = [5, 7, 2, 9, 4, 1, 3] escreva um programa que imprima as\n",
        "seguintes informações:"
      ],
      "metadata": {
        "id": "lMS366c3j9EG"
      }
    },
    {
      "cell_type": "markdown",
      "source": [
        "a) tamanho da lista.\n"
      ],
      "metadata": {
        "id": "x7XxuFXZkZka"
      }
    },
    {
      "cell_type": "code",
      "source": [
        "lista = [5,7,2,9,4,1,3]\n",
        "\n",
        "print(len(lista))"
      ],
      "metadata": {
        "id": "Wzp_OBcGko5m"
      },
      "execution_count": null,
      "outputs": []
    },
    {
      "cell_type": "markdown",
      "source": [
        "b) maior valor da lista.\n"
      ],
      "metadata": {
        "id": "68CseQTVkbSL"
      }
    },
    {
      "cell_type": "code",
      "source": [
        "lista = [5,7,2,9,4,1,3]\n",
        "\n",
        "print(max(lista))"
      ],
      "metadata": {
        "id": "8nQODXmelBO5"
      },
      "execution_count": null,
      "outputs": []
    },
    {
      "cell_type": "markdown",
      "source": [
        "c) menor valor da lista.\n"
      ],
      "metadata": {
        "id": "ozMF8yU0kcoj"
      }
    },
    {
      "cell_type": "code",
      "source": [
        "lista = [5,7,2,9,4,1,3]\n",
        "\n",
        "print(min(lista))"
      ],
      "metadata": {
        "id": "XRcTaQCNlK7R"
      },
      "execution_count": null,
      "outputs": []
    },
    {
      "cell_type": "markdown",
      "source": [
        "d) soma de todos os elementos da lista.\n"
      ],
      "metadata": {
        "id": "7oqqpg30kfEF"
      }
    },
    {
      "cell_type": "code",
      "source": [
        "lista = [5,7,2,9,4,1,3]\n",
        "\n",
        "print(sum(lista))"
      ],
      "metadata": {
        "id": "JVxzHbmplRfI"
      },
      "execution_count": null,
      "outputs": []
    },
    {
      "cell_type": "markdown",
      "source": [
        "e) lista em ordem crescente."
      ],
      "metadata": {
        "id": "v5SwGk12kgd6"
      }
    },
    {
      "cell_type": "code",
      "source": [
        "lista = [5,7,2,9,4,1,3]\n",
        "\n",
        "print(sorted(lista))"
      ],
      "metadata": {
        "id": "jM8xMmTElfrn"
      },
      "execution_count": null,
      "outputs": []
    },
    {
      "cell_type": "markdown",
      "source": [
        "f) lista em ordem decrescente."
      ],
      "metadata": {
        "id": "wSZdAwLgkjhd"
      }
    },
    {
      "cell_type": "code",
      "source": [
        "lista = [5,7,2,9,4,1,3]\n",
        "\n",
        "nova_lista = lista.reverse()\n",
        "\n",
        "print(nova_lista)"
      ],
      "metadata": {
        "id": "CL0IJ9xHkVq5"
      },
      "execution_count": null,
      "outputs": []
    },
    {
      "cell_type": "markdown",
      "source": [
        "Gere uma lista de contendo os múltiplos de 3 entre 1 e 50."
      ],
      "metadata": {
        "id": "eHctsm9RnpGh"
      }
    },
    {
      "cell_type": "code",
      "source": [
        "L_Multiplos = list (range(3,50,3))\n",
        "\n",
        "print(L_Multiplos)"
      ],
      "metadata": {
        "id": "QFp9Wa9inrJ2"
      },
      "execution_count": null,
      "outputs": []
    },
    {
      "cell_type": "markdown",
      "source": [
        "# **ESTRUTURA DE DECISÃO**"
      ],
      "metadata": {
        "id": "XQN-Y_sKoeRV"
      }
    },
    {
      "cell_type": "markdown",
      "source": [
        "Faça um programa que leia 2 notas de um aluno, calcule a média e\n",
        "imprima aprovado ou reprovado (para ser aprovado a média deve ser no\n",
        "mínimo 6)"
      ],
      "metadata": {
        "id": "2Nh8OlqFoxGP"
      }
    },
    {
      "cell_type": "code",
      "source": [
        "nome = (input('Informe seu nome: '))\n",
        "\n",
        "n1 = float(input('Informe 1ª nota: '))\n",
        "n2 = float(input('Informe 2ª nota: '))\n",
        "\n",
        "soma = n1 + n2\n",
        "media = soma / 2\n",
        "\n",
        "if (media >= 6):\n",
        "  print(f\"\\nAluno {nome} teve media >> {media} << estando assim >> APROVADO! <<\" )\n",
        "else:\n",
        "  print(f\"\\nAluno {nome} teve media >> {media} << NAO atingindo a media necessaria, estando assim >> REPROVADO! <<\" )\n"
      ],
      "metadata": {
        "id": "Nam0ULJBpEQe"
      },
      "execution_count": null,
      "outputs": []
    },
    {
      "cell_type": "markdown",
      "source": [
        "Refaça o exercício 1, identificando o conceito aprovado (média superior a\n",
        "6), exame (média entre 4 e 6) ou reprovado (média inferior a 4)."
      ],
      "metadata": {
        "id": "g__tLnENurpx"
      }
    },
    {
      "cell_type": "code",
      "source": [
        "nome = (input('Informe seu nome: '))\n",
        "\n",
        "n1 = float(input('Informe 1ª nota: '))\n",
        "n2 = float(input('Informe 2ª nota: '))\n",
        "\n",
        "soma = n1 + n2\n",
        "media = soma / 2\n",
        "\n",
        "if (media > 6):\n",
        "  print(f\"\\nAluno {nome} teve media {media} SITUACAO >> APROVADO! <<\" )\n",
        "elif(media < 6 and media >=4):\n",
        "  print(f\"\\nAluno {nome} teve media {media} SITUACAO >> EXAME FINAL! <<\" )\n",
        "else:\n",
        "  print(f\"\\nAluno {nome} teve media {media} NAO atingindo a media necessaria. SITUACAO >> REPROVADO! <<\" )"
      ],
      "metadata": {
        "id": "mE5eqgEQus7K"
      },
      "execution_count": null,
      "outputs": []
    },
    {
      "cell_type": "code",
      "source": [
        "for i in range(1,4):\n",
        "       print(i)"
      ],
      "metadata": {
        "colab": {
          "base_uri": "https://localhost:8080/"
        },
        "id": "59_1kLggRMmJ",
        "outputId": "d6a1b880-1579-4ec8-b632-3b0f6f818b62"
      },
      "execution_count": null,
      "outputs": [
        {
          "output_type": "stream",
          "name": "stdout",
          "text": [
            "1\n",
            "2\n",
            "3\n"
          ]
        }
      ]
    },
    {
      "cell_type": "code",
      "source": [
        "numeros = [1, 2, 3]\n",
        "\n",
        "for x in numeros:\n",
        "  print(x)"
      ],
      "metadata": {
        "colab": {
          "base_uri": "https://localhost:8080/"
        },
        "id": "zEHRibQcVJVH",
        "outputId": "b80beeae-384d-44d5-8ddb-670eb1f20e22"
      },
      "execution_count": null,
      "outputs": [
        {
          "output_type": "stream",
          "name": "stdout",
          "text": [
            "1\n",
            "2\n",
            "3\n"
          ]
        }
      ]
    },
    {
      "cell_type": "code",
      "source": [
        "# Criando um vetor\n",
        "vetor = [1, 2, 3, 4, 5]\n",
        "\n",
        "# Percorrendo o vetor com for\n",
        "for elemento in vetor:\n",
        "    # Imprimindo cada elemento\n",
        "    print(elemento)\n",
        "\n",
        "# Soma dos elementos do vetor\n",
        "soma = 0\n",
        "for elemento in vetor:\n",
        "    soma += elemento\n",
        "\n",
        "# Imprimindo a soma\n",
        "print(f\"Soma dos elementos: {soma}\")"
      ],
      "metadata": {
        "id": "lxVwxDU5V-4B",
        "outputId": "f1e329a1-ac92-4256-bf88-fca208cbae05",
        "colab": {
          "base_uri": "https://localhost:8080/"
        }
      },
      "execution_count": null,
      "outputs": [
        {
          "output_type": "stream",
          "name": "stdout",
          "text": [
            "1\n",
            "2\n",
            "3\n",
            "4\n",
            "5\n",
            "Soma dos elementos: 15\n"
          ]
        }
      ]
    },
    {
      "cell_type": "markdown",
      "source": [
        "Dados 3 valores A, B, C verificar se eles podem ser os comprimentos dos\n",
        "lados de um triângulo e, se forem, verificar se o triângulo é equilátero,\n",
        "isósceles ou escaleno.\n",
        "Para um polígono ser um triângulo, o comprimento de cada um de seus\n",
        "três lados deve ser menor do que a soma dos outros dois.\n",
        "15\n",
        "A seguir, classifique-o:\n",
        " Equilátero – 3 lados iguais\n",
        " Isósceles – 2 lados iguais\n",
        " Escaleno – 3 lados diferente"
      ],
      "metadata": {
        "id": "HB1kC9w1v7DR"
      }
    },
    {
      "cell_type": "code",
      "source": [
        "n1 = int(input(\"Digite o valor de N1: \"))\n",
        "n2 = int(input(\"Digite o valor de N2: \"))\n",
        "n3 = int(input(\"Digite o valor de N3: \"))\n",
        "\n",
        "if (((n1 + n2)< n3) or ((n2 + n3)< n1) or ((n3 + n1)< n2)):\n",
        "      print(\"Os valores informados NÃO podem formar um triangulo\")\n",
        "\n",
        "else:\n",
        "    if (n1 == n2 and n2 == n3 and n3 == n1):\n",
        "      print('Os dados informados formam um triangulo EQUILÁTERO')\n",
        "    elif (n1 != n2 and n2 != n3 and n3 != n1):\n",
        "      print('Os dados informados formam um triangulo ESCALENO')\n",
        "    elif (n1 == n2 or n2 == n3 or n3 == n1):\n",
        "      print('Os dados informados formam um triangulo ISOSCELES')\n"
      ],
      "metadata": {
        "id": "gxhMbofjv9uH"
      },
      "execution_count": null,
      "outputs": []
    },
    {
      "cell_type": "markdown",
      "source": [
        "Escreva um programa que recebe o peso e a altura de uma pessoa, e\n",
        "calcula seu IMC pela formula peso / (altura)2 , e mostre o resultado\n",
        "baseado nas seguintes informações:\n",
        " IMC abaixo de 20 – peso leve\n",
        " entre 20 e 25 – peso normal\n",
        " entre 25 e 30 – excesso de peso\n",
        " entre 30 e 35 – obesidade leve\n",
        " entre 35 e 40 – obesidade moderada\n",
        " acima de 40 – obesidade mórbida"
      ],
      "metadata": {
        "id": "0yv0b-zezYWM"
      }
    },
    {
      "cell_type": "code",
      "source": [
        "p   = float(input(\"Informe seu peso: \"))\n",
        "alt = float(input(\"Informe sua altura: \"))\n",
        "\n",
        "IMC = (p / alt ** 2)\n",
        "\n",
        "print('\\nIMC:', IMC)\n",
        "\n",
        "if (IMC < 20):\n",
        "  print('\\nPESO LEVE')\n",
        "elif (IMC <= 25):\n",
        "  print('\\nPESO NORMAL')\n",
        "elif (IMC <= 35):\n",
        "  print('\\nATENCAO: OBESIDADE LEVE')\n",
        "elif (IMC <= 40):\n",
        "  print('\\nATENCAO: OBESIDADE MODERADA')\n",
        "else:\n",
        "  print('\\nATENCAO: OBESIDADE MORBIDA')\n"
      ],
      "metadata": {
        "id": "g6NYJlcxzZXX"
      },
      "execution_count": null,
      "outputs": []
    },
    {
      "cell_type": "markdown",
      "source": [
        "Trabalhando com classes"
      ],
      "metadata": {
        "id": "JtJ4rzRAV43b"
      }
    },
    {
      "cell_type": "code",
      "source": [
        "class Pessoa:\n",
        "\n",
        "\n",
        "  #INICIALIZANDO AS VARIÁVEIS\n",
        "  def __init__(self, n:str, i:int):\n",
        "    self.nome = n\n",
        "    self.idade = i\n",
        "\n",
        "\n",
        "  def dizer_ola (self):\n",
        "      print(f'Olá meu nome é {self.nome}. Tenho {self.idade} anos')\n",
        "\n",
        "\n",
        "pessoa1 = Pessoa(n='Thiago', i=33)\n",
        "\n",
        "pessoa1.dizer_ola()\n"
      ],
      "metadata": {
        "colab": {
          "base_uri": "https://localhost:8080/"
        },
        "id": "waspPQYWV7Zx",
        "outputId": "dd902f29-1993-4fd2-bb8c-6af29ae17c97"
      },
      "execution_count": null,
      "outputs": [
        {
          "output_type": "stream",
          "name": "stdout",
          "text": [
            "Olá meu nome é Thiago. Tenho 33 anos\n"
          ]
        }
      ]
    },
    {
      "cell_type": "code",
      "source": [
        "class Caixa:\n",
        "\n",
        "  #INICIALIZANDO AS VARIÁVEIS\n",
        "  def __init__(self, altura:float, largura:float, profundidade:float, peso:float, empilhamento:int):\n",
        "    self.altura = altura\n",
        "    self.largura = largura\n",
        "    self.profundidade = profundidade\n",
        "    self.peso = peso\n",
        "    self.empilhamento = empilhamento\n",
        "\n",
        "  def tot_area (self):\n",
        "      area = self.altura * self.largura\n",
        "      print(f'A área do objeto é igual a: {area}')\n",
        "\n",
        "  def tot_volume (self):\n",
        "      volume = self.altura * self.largura * self.profundidade\n",
        "      print(f'O volume da CAIXA é igual a: {volume}')\n",
        "\n",
        "\n",
        "caixa1 = Caixa(2.0, 2.0, 2.0, 15.0, 2)\n",
        "\n",
        "# ----------------------------------------------------------------------\n",
        "\n",
        "class Sala:\n",
        "\n",
        "  #INICIALIZANDO AS VARIÁVEIS\n",
        "  def __init__(self, altura:float, largura:float, profundidade:float):\n",
        "    self.altura = altura\n",
        "    self.largura = largura\n",
        "    self.profundidade = profundidade\n",
        "\n",
        "  def tot_volume_sala (self):\n",
        "      volume = self.altura * self.largura * self.profundidade\n",
        "      print(f'O volume da SALA é igual a: {volume}')\n",
        "\n",
        "\n",
        "# ----------------------------------------------------------------------\n",
        "\n",
        "# CRIANDO OBJETOS\n",
        "#area1 = Caixa(altura=2.00, largura=2.00, profundidade=2.00, peso=15, empilhamento=2)\n",
        "\n",
        "sala1 = Sala(10.0,10.0,10.0)\n",
        "\n",
        "# ----------------------------------------------------------------------\n",
        "\n",
        "# PASSANDO OBJETOS PARA AS FUNÇÕES\n",
        "caixa1.tot_volume()\n",
        "sala1.tot_volume_sala()\n",
        "\n",
        "print('\\n')\n",
        "print(type(sala1))\n",
        "print(type(caixa1))\n",
        "\n",
        "\n",
        "\n"
      ],
      "metadata": {
        "id": "i03Vhk9emGim"
      },
      "execution_count": null,
      "outputs": []
    },
    {
      "cell_type": "markdown",
      "source": [
        "Exercício 1 - Programe a classe Fração\n",
        "\n",
        "num: int\n",
        "den: int\n",
        "\n",
        "Fracao(num:int , den:int)\n",
        "soma(Fracao, Fracao)\n",
        "mostra()\n",
        "totReal(): double"
      ],
      "metadata": {
        "id": "AfNDFiHjsYzz"
      }
    },
    {
      "cell_type": "code",
      "source": [
        "class Fração:\n",
        "\n",
        "  #INICIALIZANDO AS VARIÁVEIS\n",
        "  def __init__(self, num=1, den=1):\n",
        "    self.num = num\n",
        "    self.den = den\n",
        "\n",
        "  def mostra (self):\n",
        "      print(f'{self.num}/{self.den}')\n",
        "\n",
        "  def toReal(self) -> float:\n",
        "      return self.num / self.den\n",
        "\n",
        "  def soma(self, f1, f2):\n",
        "    a = f1.num\n",
        "    b = f1.den\n",
        "    c = f2.num\n",
        "    d = f2.den\n",
        "    if b == d:\n",
        "      self.num = a + c\n",
        "      self.den = b\n",
        "    else:\n",
        "      self.num = a*d + b*c\n",
        "      self.den = b*d\n",
        "\n",
        "\n",
        "\n",
        "####### MAIN ######\n",
        "\n",
        "print('\\nFrações:')\n",
        "f1 = Fração(5,3)\n",
        "f1.mostra()\n",
        "\n",
        "f2 = Fração(2)\n",
        "f2.mostra()\n",
        "\n",
        "f3 = Fração()\n",
        "f3.mostra()\n",
        "\n",
        "f4 = Fração(8,3)\n",
        "f4.mostra()\n",
        "\n",
        "f5 = Fração(3,5)\n",
        "f5.mostra()\n",
        "\n",
        "print('\\ntoReal:')\n",
        "print(f'f1= {f1.toReal()}')\n",
        "print(f'f2= {f2.toReal()}')\n",
        "print(f'f3= {f3.toReal()}')\n",
        "\n",
        "\n",
        "\n",
        "print(f'\\nSomas')\n",
        "\n",
        "f1.mostra()\n",
        "f4.mostra()\n",
        "print(f'\\nf1 + f2 =')\n",
        "\n",
        "f3.soma(f1, f4)\n",
        "\n",
        "f3.mostra()\n",
        "\n",
        "\n",
        "\n"
      ],
      "metadata": {
        "id": "R23UKdstsds4",
        "outputId": "691f7fcc-37de-4bdb-e2c0-ab895a255e77",
        "colab": {
          "base_uri": "https://localhost:8080/"
        }
      },
      "execution_count": 59,
      "outputs": [
        {
          "output_type": "stream",
          "name": "stdout",
          "text": [
            "\n",
            "Frações:\n",
            "5/3\n",
            "2/1\n",
            "1/1\n",
            "8/3\n",
            "3/5\n",
            "\n",
            "toReal:\n",
            "f1= 1.6666666666666667\n",
            "f2= 2.0\n",
            "f3= 1.0\n",
            "\n",
            "Somas\n",
            "5/3\n",
            "8/3\n",
            "\n",
            "f1 + f2 =\n",
            "13/3\n"
          ]
        }
      ]
    }
  ]
}