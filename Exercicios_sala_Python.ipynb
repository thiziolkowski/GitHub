{
  "nbformat": 4,
  "nbformat_minor": 0,
  "metadata": {
    "colab": {
      "provenance": [],
      "authorship_tag": "ABX9TyMqSrDUm2vAhH/9EmCxrTZk",
      "include_colab_link": true
    },
    "kernelspec": {
      "name": "python3",
      "display_name": "Python 3"
    },
    "language_info": {
      "name": "python"
    }
  },
  "cells": [
    {
      "cell_type": "markdown",
      "metadata": {
        "id": "view-in-github",
        "colab_type": "text"
      },
      "source": [
        "<a href=\"https://colab.research.google.com/github/thiziolkowski/GitHub/blob/main/Exercicios_sala_Python.ipynb\" target=\"_parent\"><img src=\"https://colab.research.google.com/assets/colab-badge.svg\" alt=\"Open In Colab\"/></a>"
      ]
    },
    {
      "cell_type": "markdown",
      "source": [
        "# **LISTA**"
      ],
      "metadata": {
        "id": "84TePfJAoowQ"
      }
    },
    {
      "cell_type": "markdown",
      "source": [
        "Dada a lista L = [5, 7, 2, 9, 4, 1, 3] escreva um programa que imprima as\n",
        "seguintes informações:"
      ],
      "metadata": {
        "id": "lMS366c3j9EG"
      }
    },
    {
      "cell_type": "markdown",
      "source": [
        "a) tamanho da lista.\n"
      ],
      "metadata": {
        "id": "x7XxuFXZkZka"
      }
    },
    {
      "cell_type": "code",
      "source": [
        "lista = [5,7,2,9,4,1,3]\n",
        "\n",
        "print(len(lista))"
      ],
      "metadata": {
        "id": "Wzp_OBcGko5m"
      },
      "execution_count": null,
      "outputs": []
    },
    {
      "cell_type": "markdown",
      "source": [
        "b) maior valor da lista.\n"
      ],
      "metadata": {
        "id": "68CseQTVkbSL"
      }
    },
    {
      "cell_type": "code",
      "source": [
        "lista = [5,7,2,9,4,1,3]\n",
        "\n",
        "print(max(lista))"
      ],
      "metadata": {
        "id": "8nQODXmelBO5"
      },
      "execution_count": null,
      "outputs": []
    },
    {
      "cell_type": "markdown",
      "source": [
        "c) menor valor da lista.\n"
      ],
      "metadata": {
        "id": "ozMF8yU0kcoj"
      }
    },
    {
      "cell_type": "code",
      "source": [
        "lista = [5,7,2,9,4,1,3]\n",
        "\n",
        "print(min(lista))"
      ],
      "metadata": {
        "id": "XRcTaQCNlK7R"
      },
      "execution_count": null,
      "outputs": []
    },
    {
      "cell_type": "markdown",
      "source": [
        "d) soma de todos os elementos da lista.\n"
      ],
      "metadata": {
        "id": "7oqqpg30kfEF"
      }
    },
    {
      "cell_type": "code",
      "source": [
        "lista = [5,7,2,9,4,1,3]\n",
        "\n",
        "print(sum(lista))"
      ],
      "metadata": {
        "id": "JVxzHbmplRfI"
      },
      "execution_count": null,
      "outputs": []
    },
    {
      "cell_type": "markdown",
      "source": [
        "e) lista em ordem crescente."
      ],
      "metadata": {
        "id": "v5SwGk12kgd6"
      }
    },
    {
      "cell_type": "code",
      "source": [
        "lista = [5,7,2,9,4,1,3]\n",
        "\n",
        "print(sorted(lista))"
      ],
      "metadata": {
        "id": "jM8xMmTElfrn"
      },
      "execution_count": null,
      "outputs": []
    },
    {
      "cell_type": "markdown",
      "source": [
        "f) lista em ordem decrescente."
      ],
      "metadata": {
        "id": "wSZdAwLgkjhd"
      }
    },
    {
      "cell_type": "code",
      "source": [
        "lista = [5,7,2,9,4,1,3]\n",
        "\n",
        "nova_lista = lista.reverse()\n",
        "\n",
        "print(nova_lista)"
      ],
      "metadata": {
        "id": "CL0IJ9xHkVq5"
      },
      "execution_count": null,
      "outputs": []
    },
    {
      "cell_type": "markdown",
      "source": [
        "Gere uma lista de contendo os múltiplos de 3 entre 1 e 50."
      ],
      "metadata": {
        "id": "eHctsm9RnpGh"
      }
    },
    {
      "cell_type": "code",
      "source": [
        "L_Multiplos = list (range(3,50,3))\n",
        "\n",
        "print(L_Multiplos)"
      ],
      "metadata": {
        "id": "QFp9Wa9inrJ2"
      },
      "execution_count": null,
      "outputs": []
    },
    {
      "cell_type": "markdown",
      "source": [
        "# **ESTRUTURA DE DECISÃO**"
      ],
      "metadata": {
        "id": "XQN-Y_sKoeRV"
      }
    },
    {
      "cell_type": "markdown",
      "source": [
        "Faça um programa que leia 2 notas de um aluno, calcule a média e\n",
        "imprima aprovado ou reprovado (para ser aprovado a média deve ser no\n",
        "mínimo 6)"
      ],
      "metadata": {
        "id": "2Nh8OlqFoxGP"
      }
    },
    {
      "cell_type": "code",
      "source": [
        "nome = (input('Informe seu nome: '))\n",
        "\n",
        "n1 = float(input('Informe 1ª nota: '))\n",
        "n2 = float(input('Informe 2ª nota: '))\n",
        "\n",
        "soma = n1 + n2\n",
        "media = soma / 2\n",
        "\n",
        "if (media >= 6):\n",
        "  print(f\"\\nAluno {nome} teve media >> {media} << estando assim >> APROVADO! <<\" )\n",
        "else:\n",
        "  print(f\"\\nAluno {nome} teve media >> {media} << NAO atingindo a media necessaria, estando assim >> REPROVADO! <<\" )\n"
      ],
      "metadata": {
        "id": "Nam0ULJBpEQe"
      },
      "execution_count": null,
      "outputs": []
    },
    {
      "cell_type": "markdown",
      "source": [
        "Refaça o exercício 1, identificando o conceito aprovado (média superior a\n",
        "6), exame (média entre 4 e 6) ou reprovado (média inferior a 4)."
      ],
      "metadata": {
        "id": "g__tLnENurpx"
      }
    },
    {
      "cell_type": "code",
      "source": [
        "nome = (input('Informe seu nome: '))\n",
        "\n",
        "n1 = float(input('Informe 1ª nota: '))\n",
        "n2 = float(input('Informe 2ª nota: '))\n",
        "\n",
        "soma = n1 + n2\n",
        "media = soma / 2\n",
        "\n",
        "if (media > 6):\n",
        "  print(f\"\\nAluno {nome} teve media {media} SITUACAO >> APROVADO! <<\" )\n",
        "elif(media < 6 and media >=4):\n",
        "  print(f\"\\nAluno {nome} teve media {media} SITUACAO >> EXAME FINAL! <<\" )\n",
        "else:\n",
        "  print(f\"\\nAluno {nome} teve media {media} NAO atingindo a media necessaria. SITUACAO >> REPROVADO! <<\" )"
      ],
      "metadata": {
        "id": "mE5eqgEQus7K"
      },
      "execution_count": null,
      "outputs": []
    },
    {
      "cell_type": "markdown",
      "source": [
        "Dados 3 valores A, B, C verificar se eles podem ser os comprimentos dos\n",
        "lados de um triângulo e, se forem, verificar se o triângulo é equilátero,\n",
        "isósceles ou escaleno.\n",
        "Para um polígono ser um triângulo, o comprimento de cada um de seus\n",
        "três lados deve ser menor do que a soma dos outros dois.\n",
        "15\n",
        "A seguir, classifique-o:\n",
        " Equilátero – 3 lados iguais\n",
        " Isósceles – 2 lados iguais\n",
        " Escaleno – 3 lados diferente"
      ],
      "metadata": {
        "id": "HB1kC9w1v7DR"
      }
    },
    {
      "cell_type": "code",
      "source": [
        "n1 = int(input(\"Digite o valor de N1: \"))\n",
        "n2 = int(input(\"Digite o valor de N2: \"))\n",
        "n3 = int(input(\"Digite o valor de N3: \"))\n",
        "\n",
        "if (((n1 + n2)< n3) or ((n2 + n3)< n1) or ((n3 + n1)< n2)):\n",
        "      print(\"Os valores informados NÃO podem formar um triangulo\")\n",
        "\n",
        "else:\n",
        "    if (n1 == n2 and n2 == n3 and n3 == n1):\n",
        "      print('Os dados informados formam um triangulo EQUILÁTERO')\n",
        "    elif (n1 != n2 and n2 != n3 and n3 != n1):\n",
        "      print('Os dados informados formam um triangulo ESCALENO')\n",
        "    elif (n1 == n2 or n2 == n3 or n3 == n1):\n",
        "      print('Os dados informados formam um triangulo ISOSCELES')\n",
        ""
      ],
      "metadata": {
        "id": "gxhMbofjv9uH"
      },
      "execution_count": null,
      "outputs": []
    },
    {
      "cell_type": "markdown",
      "source": [
        "Escreva um programa que recebe o peso e a altura de uma pessoa, e\n",
        "calcula seu IMC pela formula peso / (altura)2 , e mostre o resultado\n",
        "baseado nas seguintes informações:\n",
        " IMC abaixo de 20 – peso leve\n",
        " entre 20 e 25 – peso normal\n",
        " entre 25 e 30 – excesso de peso\n",
        " entre 30 e 35 – obesidade leve\n",
        " entre 35 e 40 – obesidade moderada\n",
        " acima de 40 – obesidade mórbida"
      ],
      "metadata": {
        "id": "0yv0b-zezYWM"
      }
    },
    {
      "cell_type": "code",
      "source": [
        "p   = float(input(\"Informe seu peso: \"))\n",
        "alt = float(input(\"Informe sua altura: \"))\n",
        "\n",
        "IMC = (p / alt ** 2)\n",
        "\n",
        "print('\\nIMC:', IMC)\n",
        "\n",
        "if (IMC < 20):\n",
        "  print('\\nPESO LEVE')\n",
        "elif (IMC <= 25):\n",
        "  print('\\nPESO NORMAL')\n",
        "elif (IMC <= 35):\n",
        "  print('\\nATENCAO: OBESIDADE LEVE')\n",
        "elif (IMC <= 40):\n",
        "  print('\\nATENCAO: OBESIDADE MODERADA')\n",
        "else:\n",
        "  print('\\nATENCAO: OBESIDADE MORBIDA')\n"
      ],
      "metadata": {
        "id": "g6NYJlcxzZXX"
      },
      "execution_count": null,
      "outputs": []
    }
  ]
}