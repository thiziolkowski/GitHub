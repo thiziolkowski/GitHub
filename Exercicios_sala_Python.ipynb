{
  "nbformat": 4,
  "nbformat_minor": 0,
  "metadata": {
    "colab": {
      "provenance": [],
      "authorship_tag": "ABX9TyOuZ+p1OXx8/JQ9a6+csFcq",
      "include_colab_link": true
    },
    "kernelspec": {
      "name": "python3",
      "display_name": "Python 3"
    },
    "language_info": {
      "name": "python"
    }
  },
  "cells": [
    {
      "cell_type": "markdown",
      "metadata": {
        "id": "view-in-github",
        "colab_type": "text"
      },
      "source": [
        "<a href=\"https://colab.research.google.com/github/thiziolkowski/GitHub/blob/main/Exercicios_sala_Python.ipynb\" target=\"_parent\"><img src=\"https://colab.research.google.com/assets/colab-badge.svg\" alt=\"Open In Colab\"/></a>"
      ]
    },
    {
      "cell_type": "markdown",
      "source": [
        "# **LISTA**"
      ],
      "metadata": {
        "id": "84TePfJAoowQ"
      }
    },
    {
      "cell_type": "markdown",
      "source": [
        "Dada a lista L = [5, 7, 2, 9, 4, 1, 3] escreva um programa que imprima as\n",
        "seguintes informações:"
      ],
      "metadata": {
        "id": "lMS366c3j9EG"
      }
    },
    {
      "cell_type": "markdown",
      "source": [
        "a) tamanho da lista.\n"
      ],
      "metadata": {
        "id": "x7XxuFXZkZka"
      }
    },
    {
      "cell_type": "code",
      "source": [
        "lista = [5,7,2,9,4,1,3]\n",
        "\n",
        "print(len(lista))"
      ],
      "metadata": {
        "id": "Wzp_OBcGko5m"
      },
      "execution_count": null,
      "outputs": []
    },
    {
      "cell_type": "markdown",
      "source": [
        "b) maior valor da lista.\n"
      ],
      "metadata": {
        "id": "68CseQTVkbSL"
      }
    },
    {
      "cell_type": "code",
      "source": [
        "lista = [5,7,2,9,4,1,3]\n",
        "\n",
        "print(max(lista))"
      ],
      "metadata": {
        "id": "8nQODXmelBO5"
      },
      "execution_count": null,
      "outputs": []
    },
    {
      "cell_type": "markdown",
      "source": [
        "c) menor valor da lista.\n"
      ],
      "metadata": {
        "id": "ozMF8yU0kcoj"
      }
    },
    {
      "cell_type": "code",
      "source": [
        "lista = [5,7,2,9,4,1,3]\n",
        "\n",
        "print(min(lista))"
      ],
      "metadata": {
        "id": "XRcTaQCNlK7R"
      },
      "execution_count": null,
      "outputs": []
    },
    {
      "cell_type": "markdown",
      "source": [
        "d) soma de todos os elementos da lista.\n"
      ],
      "metadata": {
        "id": "7oqqpg30kfEF"
      }
    },
    {
      "cell_type": "code",
      "source": [
        "lista = [5,7,2,9,4,1,3]\n",
        "\n",
        "print(sum(lista))"
      ],
      "metadata": {
        "id": "JVxzHbmplRfI"
      },
      "execution_count": null,
      "outputs": []
    },
    {
      "cell_type": "markdown",
      "source": [
        "e) lista em ordem crescente."
      ],
      "metadata": {
        "id": "v5SwGk12kgd6"
      }
    },
    {
      "cell_type": "code",
      "source": [
        "lista = [5,7,2,9,4,1,3]\n",
        "\n",
        "print(sorted(lista))"
      ],
      "metadata": {
        "id": "jM8xMmTElfrn"
      },
      "execution_count": null,
      "outputs": []
    },
    {
      "cell_type": "markdown",
      "source": [
        "f) lista em ordem decrescente."
      ],
      "metadata": {
        "id": "wSZdAwLgkjhd"
      }
    },
    {
      "cell_type": "code",
      "source": [
        "lista = [5,7,2,9,4,1,3]\n",
        "\n",
        "nova_lista = lista.reverse()\n",
        "\n",
        "print(nova_lista)"
      ],
      "metadata": {
        "id": "CL0IJ9xHkVq5"
      },
      "execution_count": null,
      "outputs": []
    },
    {
      "cell_type": "markdown",
      "source": [
        "Gere uma lista de contendo os múltiplos de 3 entre 1 e 50."
      ],
      "metadata": {
        "id": "eHctsm9RnpGh"
      }
    },
    {
      "cell_type": "code",
      "source": [
        "L_Multiplos = list (range(3,50,3))\n",
        "\n",
        "print(L_Multiplos)"
      ],
      "metadata": {
        "id": "QFp9Wa9inrJ2"
      },
      "execution_count": null,
      "outputs": []
    },
    {
      "cell_type": "markdown",
      "source": [
        "# **ESTRUTURA DE DECISÃO**"
      ],
      "metadata": {
        "id": "XQN-Y_sKoeRV"
      }
    },
    {
      "cell_type": "markdown",
      "source": [
        "Faça um programa que leia 2 notas de um aluno, calcule a média e\n",
        "imprima aprovado ou reprovado (para ser aprovado a média deve ser no\n",
        "mínimo 6)"
      ],
      "metadata": {
        "id": "2Nh8OlqFoxGP"
      }
    },
    {
      "cell_type": "code",
      "source": [
        "nome = (input('Informe seu nome: '))\n",
        "\n",
        "n1 = float(input('Informe 1ª nota: '))\n",
        "n2 = float(input('Informe 2ª nota: '))\n",
        "\n",
        "soma = n1 + n2\n",
        "media = soma / 2\n",
        "\n",
        "if (media >= 6):\n",
        "  print(f\"\\nAluno {nome} teve media >> {media} << estando assim >> APROVADO! <<\" )\n",
        "else:\n",
        "  print(f\"\\nAluno {nome} teve media >> {media} << NAO atingindo a media necessaria, estando assim >> REPROVADO! <<\" )\n"
      ],
      "metadata": {
        "id": "Nam0ULJBpEQe"
      },
      "execution_count": null,
      "outputs": []
    },
    {
      "cell_type": "markdown",
      "source": [
        "Refaça o exercício 1, identificando o conceito aprovado (média superior a\n",
        "6), exame (média entre 4 e 6) ou reprovado (média inferior a 4)."
      ],
      "metadata": {
        "id": "g__tLnENurpx"
      }
    },
    {
      "cell_type": "code",
      "source": [
        "nome = (input('Informe seu nome: '))\n",
        "\n",
        "n1 = float(input('Informe 1ª nota: '))\n",
        "n2 = float(input('Informe 2ª nota: '))\n",
        "\n",
        "soma = n1 + n2\n",
        "media = soma / 2\n",
        "\n",
        "if (media > 6):\n",
        "  print(f\"\\nAluno {nome} teve media {media} SITUACAO >> APROVADO! <<\" )\n",
        "elif(media < 6 and media >=4):\n",
        "  print(f\"\\nAluno {nome} teve media {media} SITUACAO >> EXAME FINAL! <<\" )\n",
        "else:\n",
        "  print(f\"\\nAluno {nome} teve media {media} NAO atingindo a media necessaria. SITUACAO >> REPROVADO! <<\" )"
      ],
      "metadata": {
        "id": "mE5eqgEQus7K"
      },
      "execution_count": null,
      "outputs": []
    },
    {
      "cell_type": "code",
      "source": [
        "for i in range(1,4):\n",
        "       print(i)"
      ],
      "metadata": {
        "id": "59_1kLggRMmJ",
        "outputId": "d6a1b880-1579-4ec8-b632-3b0f6f818b62",
        "colab": {
          "base_uri": "https://localhost:8080/"
        }
      },
      "execution_count": 9,
      "outputs": [
        {
          "output_type": "stream",
          "name": "stdout",
          "text": [
            "1\n",
            "2\n",
            "3\n"
          ]
        }
      ]
    },
    {
      "cell_type": "code",
      "source": [
        "numeros = [1, 2, 3]\n",
        "\n",
        "for x in numeros:\n",
        "  print(x)"
      ],
      "metadata": {
        "id": "zEHRibQcVJVH",
        "outputId": "b80beeae-384d-44d5-8ddb-670eb1f20e22",
        "colab": {
          "base_uri": "https://localhost:8080/"
        }
      },
      "execution_count": 12,
      "outputs": [
        {
          "output_type": "stream",
          "name": "stdout",
          "text": [
            "1\n",
            "2\n",
            "3\n"
          ]
        }
      ]
    },
    {
      "cell_type": "markdown",
      "source": [
        "Dados 3 valores A, B, C verificar se eles podem ser os comprimentos dos\n",
        "lados de um triângulo e, se forem, verificar se o triângulo é equilátero,\n",
        "isósceles ou escaleno.\n",
        "Para um polígono ser um triângulo, o comprimento de cada um de seus\n",
        "três lados deve ser menor do que a soma dos outros dois.\n",
        "15\n",
        "A seguir, classifique-o:\n",
        " Equilátero – 3 lados iguais\n",
        " Isósceles – 2 lados iguais\n",
        " Escaleno – 3 lados diferente"
      ],
      "metadata": {
        "id": "HB1kC9w1v7DR"
      }
    },
    {
      "cell_type": "code",
      "source": [
        "n1 = int(input(\"Digite o valor de N1: \"))\n",
        "n2 = int(input(\"Digite o valor de N2: \"))\n",
        "n3 = int(input(\"Digite o valor de N3: \"))\n",
        "\n",
        "if (((n1 + n2)< n3) or ((n2 + n3)< n1) or ((n3 + n1)< n2)):\n",
        "      print(\"Os valores informados NÃO podem formar um triangulo\")\n",
        "\n",
        "else:\n",
        "    if (n1 == n2 and n2 == n3 and n3 == n1):\n",
        "      print('Os dados informados formam um triangulo EQUILÁTERO')\n",
        "    elif (n1 != n2 and n2 != n3 and n3 != n1):\n",
        "      print('Os dados informados formam um triangulo ESCALENO')\n",
        "    elif (n1 == n2 or n2 == n3 or n3 == n1):\n",
        "      print('Os dados informados formam um triangulo ISOSCELES')\n"
      ],
      "metadata": {
        "id": "gxhMbofjv9uH"
      },
      "execution_count": null,
      "outputs": []
    },
    {
      "cell_type": "markdown",
      "source": [
        "Escreva um programa que recebe o peso e a altura de uma pessoa, e\n",
        "calcula seu IMC pela formula peso / (altura)2 , e mostre o resultado\n",
        "baseado nas seguintes informações:\n",
        " IMC abaixo de 20 – peso leve\n",
        " entre 20 e 25 – peso normal\n",
        " entre 25 e 30 – excesso de peso\n",
        " entre 30 e 35 – obesidade leve\n",
        " entre 35 e 40 – obesidade moderada\n",
        " acima de 40 – obesidade mórbida"
      ],
      "metadata": {
        "id": "0yv0b-zezYWM"
      }
    },
    {
      "cell_type": "code",
      "source": [
        "p   = float(input(\"Informe seu peso: \"))\n",
        "alt = float(input(\"Informe sua altura: \"))\n",
        "\n",
        "IMC = (p / alt ** 2)\n",
        "\n",
        "print('\\nIMC:', IMC)\n",
        "\n",
        "if (IMC < 20):\n",
        "  print('\\nPESO LEVE')\n",
        "elif (IMC <= 25):\n",
        "  print('\\nPESO NORMAL')\n",
        "elif (IMC <= 35):\n",
        "  print('\\nATENCAO: OBESIDADE LEVE')\n",
        "elif (IMC <= 40):\n",
        "  print('\\nATENCAO: OBESIDADE MODERADA')\n",
        "else:\n",
        "  print('\\nATENCAO: OBESIDADE MORBIDA')\n"
      ],
      "metadata": {
        "id": "g6NYJlcxzZXX"
      },
      "execution_count": null,
      "outputs": []
    },
    {
      "cell_type": "markdown",
      "source": [
        "Trabalhando com classes"
      ],
      "metadata": {
        "id": "JtJ4rzRAV43b"
      }
    },
    {
      "cell_type": "code",
      "source": [
        "class Pessoa:\n",
        "\n",
        "\n",
        "  #INICIALIZANDO AS VARIÁVEIS\n",
        "  def __init__(self, n:str, i:int):\n",
        "    self.nome = n\n",
        "    self.idade = i\n",
        "\n",
        "\n",
        "  def dizer_ola (self):\n",
        "      print(f'Olá meu nome é {self.nome}. Tenho {self.idade} anos')\n",
        "\n",
        "\n",
        "pessoa1 = Pessoa(n='Thiago', i=33)\n",
        "\n",
        "pessoa1.dizer_ola()\n"
      ],
      "metadata": {
        "colab": {
          "base_uri": "https://localhost:8080/"
        },
        "id": "waspPQYWV7Zx",
        "outputId": "dd902f29-1993-4fd2-bb8c-6af29ae17c97"
      },
      "execution_count": null,
      "outputs": [
        {
          "output_type": "stream",
          "name": "stdout",
          "text": [
            "Olá meu nome é Thiago. Tenho 33 anos\n"
          ]
        }
      ]
    },
    {
      "cell_type": "code",
      "source": [
        "class Caixa:\n",
        "\n",
        "  #INICIALIZANDO AS VARIÁVEIS\n",
        "  def __init__(self, altura:float, largura:float, profundidade:float, peso:float, empilhamento:int):\n",
        "    self.altura = altura\n",
        "    self.largura = largura\n",
        "    self.profundidade = profundidade\n",
        "    self.peso = peso\n",
        "    self.empilhamento = empilhamento\n",
        "\n",
        "  def tot_area (self):\n",
        "      area = self.altura * self.largura\n",
        "      print(f'A área do objeto é igual a: {area}')\n",
        "\n",
        "  def tot_volume (self):\n",
        "      volume = self.altura * self.largura * self.profundidade\n",
        "      print(f'O volume da CAIXA é igual a: {volume}')\n",
        "\n",
        "# ----------------------------------------------------------------------\n",
        "\n",
        "class Sala:\n",
        "\n",
        "  #INICIALIZANDO AS VARIÁVEIS\n",
        "  def __init__(self, altura:float, largura:float, profundidade:float):\n",
        "    self.altura = altura\n",
        "    self.largura = largura\n",
        "    self.profundidade = profundidade\n",
        "\n",
        "  def tot_volume_sala (self):\n",
        "      volume = self.altura * self.largura * self.profundidade\n",
        "      print(f'O volume da SALA é igual a: {volume}')\n",
        "\n",
        "\n",
        "# ----------------------------------------------------------------------\n",
        "\n",
        "# CRIANDO OBJETOS\n",
        "#area1 = Caixa(altura=2.00, largura=2.00, profundidade=2.00, peso=15, empilhamento=2)\n",
        "caixa1 = Caixa(2.0, 2.0, 2.0, 15.0, 2)\n",
        "sala1 = Sala(10.0,10.0,10.0)\n",
        "\n",
        "# ----------------------------------------------------------------------\n",
        "\n",
        "# PASSANDO OBJETOS PARA AS FUNÇÕES\n",
        "caixa1.tot_volume()\n",
        "sala1.tot_volume_sala()\n",
        "\n",
        "print('\\n')\n",
        "print(type(sala1))\n",
        "print(type(caixa1))\n",
        "\n",
        "\n",
        "\n"
      ],
      "metadata": {
        "colab": {
          "base_uri": "https://localhost:8080/"
        },
        "id": "i03Vhk9emGim",
        "outputId": "4d3cd6ab-35ae-41c1-8fca-e261ebfccd2e"
      },
      "execution_count": null,
      "outputs": [
        {
          "output_type": "stream",
          "name": "stdout",
          "text": [
            "O volume da CAIXA é igual a: 8.0\n",
            "O volume da SALA é igual a: 1000.0\n",
            "\n",
            "\n",
            "<class '__main__.Sala'>\n",
            "<class '__main__.Caixa'>\n"
          ]
        }
      ]
    }
  ]
}