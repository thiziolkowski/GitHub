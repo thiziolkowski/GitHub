{
  "nbformat": 4,
  "nbformat_minor": 0,
  "metadata": {
    "colab": {
      "provenance": [],
      "toc_visible": true,
      "authorship_tag": "ABX9TyOrWZeZAfNsxV/1kxU6ua2S",
      "include_colab_link": true
    },
    "kernelspec": {
      "name": "python3",
      "display_name": "Python 3"
    },
    "language_info": {
      "name": "python"
    }
  },
  "cells": [
    {
      "cell_type": "markdown",
      "metadata": {
        "id": "view-in-github",
        "colab_type": "text"
      },
      "source": [
        "<a href=\"https://colab.research.google.com/github/thiziolkowski/GitHub/blob/main/Exercicios_sala_Python.ipynb\" target=\"_parent\"><img src=\"https://colab.research.google.com/assets/colab-badge.svg\" alt=\"Open In Colab\"/></a>"
      ]
    },
    {
      "cell_type": "markdown",
      "source": [
        "# **LISTA**"
      ],
      "metadata": {
        "id": "84TePfJAoowQ"
      }
    },
    {
      "cell_type": "markdown",
      "source": [
        "Dada a lista L = [5, 7, 2, 9, 4, 1, 3] escreva um programa que imprima as\n",
        "seguintes informações:"
      ],
      "metadata": {
        "id": "lMS366c3j9EG"
      }
    },
    {
      "cell_type": "markdown",
      "source": [
        "a) tamanho da lista.\n"
      ],
      "metadata": {
        "id": "x7XxuFXZkZka"
      }
    },
    {
      "cell_type": "code",
      "source": [
        "lista = [5,7,2,9,4,1,3]\n",
        "\n",
        "print(len(lista))"
      ],
      "metadata": {
        "id": "Wzp_OBcGko5m"
      },
      "execution_count": null,
      "outputs": []
    },
    {
      "cell_type": "markdown",
      "source": [
        "b) maior valor da lista.\n"
      ],
      "metadata": {
        "id": "68CseQTVkbSL"
      }
    },
    {
      "cell_type": "code",
      "source": [
        "lista = [5,7,2,9,4,1,3]\n",
        "\n",
        "print(max(lista))"
      ],
      "metadata": {
        "id": "8nQODXmelBO5"
      },
      "execution_count": null,
      "outputs": []
    },
    {
      "cell_type": "markdown",
      "source": [
        "c) menor valor da lista.\n"
      ],
      "metadata": {
        "id": "ozMF8yU0kcoj"
      }
    },
    {
      "cell_type": "code",
      "source": [
        "lista = [5,7,2,9,4,1,3]\n",
        "\n",
        "print(min(lista))"
      ],
      "metadata": {
        "id": "XRcTaQCNlK7R"
      },
      "execution_count": null,
      "outputs": []
    },
    {
      "cell_type": "markdown",
      "source": [
        "d) soma de todos os elementos da lista.\n"
      ],
      "metadata": {
        "id": "7oqqpg30kfEF"
      }
    },
    {
      "cell_type": "code",
      "source": [
        "lista = [5,7,2,9,4,1,3]\n",
        "\n",
        "print(sum(lista))"
      ],
      "metadata": {
        "id": "JVxzHbmplRfI"
      },
      "execution_count": null,
      "outputs": []
    },
    {
      "cell_type": "markdown",
      "source": [
        "e) lista em ordem crescente."
      ],
      "metadata": {
        "id": "v5SwGk12kgd6"
      }
    },
    {
      "cell_type": "code",
      "source": [
        "lista = [5,7,2,9,4,1,3]\n",
        "\n",
        "print(sorted(lista))"
      ],
      "metadata": {
        "id": "jM8xMmTElfrn"
      },
      "execution_count": null,
      "outputs": []
    },
    {
      "cell_type": "markdown",
      "source": [
        "f) lista em ordem decrescente."
      ],
      "metadata": {
        "id": "wSZdAwLgkjhd"
      }
    },
    {
      "cell_type": "code",
      "source": [
        "lista = [5,7,2,9,4,1,3]\n",
        "\n",
        "nova_lista = lista.reverse()\n",
        "\n",
        "print(nova_lista)"
      ],
      "metadata": {
        "id": "CL0IJ9xHkVq5"
      },
      "execution_count": null,
      "outputs": []
    },
    {
      "cell_type": "markdown",
      "source": [
        "Gere uma lista de contendo os múltiplos de 3 entre 1 e 50."
      ],
      "metadata": {
        "id": "eHctsm9RnpGh"
      }
    },
    {
      "cell_type": "code",
      "source": [
        "L_Multiplos = list (range(3,50,3))\n",
        "\n",
        "print(L_Multiplos)"
      ],
      "metadata": {
        "id": "QFp9Wa9inrJ2"
      },
      "execution_count": null,
      "outputs": []
    },
    {
      "cell_type": "markdown",
      "source": [
        "# **ESTRUTURA DE DECISÃO**"
      ],
      "metadata": {
        "id": "XQN-Y_sKoeRV"
      }
    },
    {
      "cell_type": "markdown",
      "source": [
        "Faça um programa que leia 2 notas de um aluno, calcule a média e\n",
        "imprima aprovado ou reprovado (para ser aprovado a média deve ser no\n",
        "mínimo 6)"
      ],
      "metadata": {
        "id": "2Nh8OlqFoxGP"
      }
    }
  ]
}